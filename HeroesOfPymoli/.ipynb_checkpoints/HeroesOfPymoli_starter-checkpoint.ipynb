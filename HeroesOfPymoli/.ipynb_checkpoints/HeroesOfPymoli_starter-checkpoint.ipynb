{
 "cells": [
  {
   "cell_type": "markdown",
   "metadata": {},
   "source": [
    "### Note\n",
    "* Instructions have been included for each segment. You do not have to follow them exactly, but they are included to help you think through the steps."
   ]
  },
  {
   "cell_type": "code",
   "execution_count": null,
   "metadata": {},
   "outputs": [],
   "source": [
    "# Dependencies and Setup\n",
    "import pandas as pd\n",
    "import numpy as np\n",
    "\n",
    "# File to Load (Remember to Change These)\n",
    "file_to_load = \"Resources/purchase_data.csv\"\n",
    "\n",
    "# Read Purchasing File and store into Pandas data frame\n",
    "purchase_data = pd.read_csv(file_to_load)\n",
    "purchase_data.head(20)\n"
   ]
  },
  {
   "cell_type": "markdown",
   "metadata": {},
   "source": [
    "## Player Count"
   ]
  },
  {
   "cell_type": "markdown",
   "metadata": {},
   "source": [
    "* Display the total number of players\n"
   ]
  },
  {
   "cell_type": "code",
   "execution_count": null,
   "metadata": {
    "scrolled": true
   },
   "outputs": [],
   "source": [
    "TotRows = purchase_data[\"Price\"].count()\n",
    "print (\"Total rows = \", TotRows)\n",
    "print(\" \")\n",
    "TotPlayers = len(purchase_data[\"SN\"].value_counts())\n",
    "print (\"Total Players = \", TotPlayers)\n"
   ]
  },
  {
   "cell_type": "markdown",
   "metadata": {},
   "source": [
    "## Purchasing Analysis (Total)"
   ]
  },
  {
   "cell_type": "markdown",
   "metadata": {},
   "source": [
    "* Run basic calculations to obtain number of unique items, average price, etc.\n",
    "\n",
    "\n",
    "* Create a summary data frame to hold the results\n",
    "\n",
    "\n",
    "* Optional: give the displayed data cleaner formatting\n",
    "\n",
    "\n",
    "* Display the summary data frame\n"
   ]
  },
  {
   "cell_type": "code",
   "execution_count": 3,
   "metadata": {
    "scrolled": true
   },
   "outputs": [
    {
     "name": "stdout",
     "output_type": "stream",
     "text": [
      " UniqItms= 183 AvePrc= $3.05 ItemsPurch= 780  TotRev= $2,379.77 \n"
     ]
    },
    {
     "data": {
      "text/html": [
       "<div>\n",
       "<style scoped>\n",
       "    .dataframe tbody tr th:only-of-type {\n",
       "        vertical-align: middle;\n",
       "    }\n",
       "\n",
       "    .dataframe tbody tr th {\n",
       "        vertical-align: top;\n",
       "    }\n",
       "\n",
       "    .dataframe thead th {\n",
       "        text-align: right;\n",
       "    }\n",
       "</style>\n",
       "<table border=\"1\" class=\"dataframe\">\n",
       "  <thead>\n",
       "    <tr style=\"text-align: right;\">\n",
       "      <th></th>\n",
       "      <th>Number of Unique Items</th>\n",
       "      <th>Average Price</th>\n",
       "      <th>Number of Purchases</th>\n",
       "      <th>Total Revenue</th>\n",
       "    </tr>\n",
       "  </thead>\n",
       "  <tbody>\n",
       "    <tr>\n",
       "      <th>0</th>\n",
       "      <td>183</td>\n",
       "      <td>3.050987</td>\n",
       "      <td>780</td>\n",
       "      <td>2379.77</td>\n",
       "    </tr>\n",
       "  </tbody>\n",
       "</table>\n",
       "</div>"
      ],
      "text/plain": [
       "   Number of Unique Items  Average Price  Number of Purchases  Total Revenue\n",
       "0                     183       3.050987                  780        2379.77"
      ]
     },
     "execution_count": 3,
     "metadata": {},
     "output_type": "execute_result"
    }
   ],
   "source": [
    "UniqItms = len(purchase_data[\"Item ID\"].value_counts())\n",
    "AvePrc = purchase_data[\"Price\"].mean()\n",
    "ItemsPurch = purchase_data[\"Price\"].count()\n",
    "TotRev = purchase_data[\"Price\"].sum()\n",
    "#\n",
    "print (\n",
    "    f\" UniqItms= {UniqItms} AvePrc= ${AvePrc:,.2f} ItemsPurch= {ItemsPurch}  TotRev= ${TotRev:,.2f} \"\n",
    "      )\n",
    "# Convert the summary data into a DataFrame\n",
    "SummaryData_df = pd.DataFrame({\"Number of Unique Items\":[UniqItms],\n",
    "                               \"Average Price\":[AvePrc],\n",
    "                               \"Number of Purchases\":[ItemsPurch],\n",
    "                               \"Total Revenue\":[TotRev]\n",
    "                              })\n",
    "SummaryData_df.head()\n"
   ]
  },
  {
   "cell_type": "markdown",
   "metadata": {},
   "source": [
    "## Gender Demographics"
   ]
  },
  {
   "cell_type": "markdown",
   "metadata": {},
   "source": [
    "* Percentage and Count of Male Players\n",
    "purchase_data[\"Gender\" = \"Male\"].count()\n",
    "\n",
    "* Percentage and Count of Female Players\n",
    "\n",
    "\n",
    "* Percentage and Count of Other / Non-Disclosed\n",
    "\n",
    "\n"
   ]
  },
  {
   "cell_type": "code",
   "execution_count": 4,
   "metadata": {},
   "outputs": [
    {
     "name": "stdout",
     "output_type": "stream",
     "text": [
      " Total: 780\n",
      " Male: 652\n",
      " Female: 113\n",
      " Non_specfic: 15\n",
      " \n",
      " % Male: 83.58974358974359\n",
      " % Female: 14.487179487179489\n",
      " % Non_specifc: 1.9230769230769231\n"
     ]
    }
   ],
   "source": [
    "CntMale = purchase_data[\"Gender\"].value_counts()['Male']\n",
    "CntFemale = purchase_data[\"Gender\"].value_counts()['Female']\n",
    "CntOther = purchase_data[\"Gender\"].value_counts()['Other / Non-Disclosed']\n",
    "CntTot = CntMale + CntFemale + CntOther\n",
    "print(\n",
    "    f\" Total: {CntTot}\\n Male: {CntMale}\\n Female: {CntFemale}\\n Non_specfic: {CntOther}\")\n",
    "print(\" \")\n",
    "PctMale = (CntMale / CntTot) * 100\n",
    "PctFemale = (CntFemale / CntTot) * 100\n",
    "PctOther = (CntOther / CntTot) * 100\n",
    "print(\n",
    "    f\" % Male: {PctMale}\\n % Female: {PctFemale}\\n % Non_specifc: {PctOther}\")"
   ]
  },
  {
   "cell_type": "markdown",
   "metadata": {},
   "source": [
    "\n",
    "## Purchasing Analysis (Gender)"
   ]
  },
  {
   "cell_type": "markdown",
   "metadata": {},
   "source": [
    "* Run basic calculations to obtain purchase count, avg. purchase price, avg. purchase total per person etc. by gender\n",
    "\n",
    "\n",
    "\n",
    "\n",
    "* Create a summary data frame to hold the results\n",
    "\n",
    "\n",
    "* Optional: give the displayed data cleaner formatting\n",
    "\n",
    "\n",
    "* Display the summary data frame"
   ]
  },
  {
   "cell_type": "code",
   "execution_count": 5,
   "metadata": {},
   "outputs": [
    {
     "name": "stdout",
     "output_type": "stream",
     "text": [
      " Male Total: 652\n",
      " Male AvePrice: $3.02\n",
      " Male TotPrice: $1,967.64\n",
      " Male AvePerPerson: $4.07\n",
      " Male Persons: 484\n",
      " \n",
      " Female Total: 113\n",
      " Female AvePrice: $3.20\n",
      " Female TotPrice: $361.94\n",
      " Female AvePerPerson: $4.47\n",
      " Female Persons: 81\n",
      " \n",
      " Other Total: 15\n",
      " Other AvePrice: $3.35\n",
      " Other TotPrice: $50.19\n",
      " Other AvePerPerson: $4.56\n",
      " Other Persons: 11\n",
      " \n"
     ]
    },
    {
     "data": {
      "text/html": [
       "<div>\n",
       "<style scoped>\n",
       "    .dataframe tbody tr th:only-of-type {\n",
       "        vertical-align: middle;\n",
       "    }\n",
       "\n",
       "    .dataframe tbody tr th {\n",
       "        vertical-align: top;\n",
       "    }\n",
       "\n",
       "    .dataframe thead th {\n",
       "        text-align: right;\n",
       "    }\n",
       "</style>\n",
       "<table border=\"1\" class=\"dataframe\">\n",
       "  <thead>\n",
       "    <tr style=\"text-align: right;\">\n",
       "      <th></th>\n",
       "      <th>Gender</th>\n",
       "      <th>Purchase Count</th>\n",
       "      <th>Average Price Paid</th>\n",
       "      <th>Total Purchase Value</th>\n",
       "      <th>Average Purchase PerPerson</th>\n",
       "    </tr>\n",
       "  </thead>\n",
       "  <tbody>\n",
       "    <tr>\n",
       "      <th>0</th>\n",
       "      <td>Male</td>\n",
       "      <td>652</td>\n",
       "      <td>3.017853</td>\n",
       "      <td>1967.64</td>\n",
       "      <td>4.065372</td>\n",
       "    </tr>\n",
       "    <tr>\n",
       "      <th>1</th>\n",
       "      <td>Female</td>\n",
       "      <td>113</td>\n",
       "      <td>3.203009</td>\n",
       "      <td>361.94</td>\n",
       "      <td>4.468395</td>\n",
       "    </tr>\n",
       "    <tr>\n",
       "      <th>2</th>\n",
       "      <td>Other / Non-Disclosed</td>\n",
       "      <td>15</td>\n",
       "      <td>3.346000</td>\n",
       "      <td>50.19</td>\n",
       "      <td>4.562727</td>\n",
       "    </tr>\n",
       "  </tbody>\n",
       "</table>\n",
       "</div>"
      ],
      "text/plain": [
       "                  Gender  Purchase Count  Average Price Paid  \\\n",
       "0                   Male             652            3.017853   \n",
       "1                 Female             113            3.203009   \n",
       "2  Other / Non-Disclosed              15            3.346000   \n",
       "\n",
       "   Total Purchase Value  Average Purchase PerPerson  \n",
       "0               1967.64                    4.065372  \n",
       "1                361.94                    4.468395  \n",
       "2                 50.19                    4.562727  "
      ]
     },
     "execution_count": 5,
     "metadata": {},
     "output_type": "execute_result"
    }
   ],
   "source": [
    "OnlyMale = purchase_data.loc[purchase_data[\"Gender\"] == \"Male\", :] \n",
    "SumMale = OnlyMale[\"Price\"].sum()\n",
    "AveMale = OnlyMale[\"Price\"].mean()\n",
    "CntMaleSN = len(OnlyMale[\"SN\"].unique())\n",
    "AvePerMale = SumMale/CntMaleSN\n",
    "\n",
    "print(\n",
    "    f\" Male Total: {CntMale}\\n Male AvePrice: ${AveMale:,.2f}\\n Male TotPrice: ${SumMale:,.2f}\\n Male AvePerPerson: ${AvePerMale:,.2f}\")\n",
    "print(\n",
    "    f\" Male Persons: {CntMaleSN}\")\n",
    "print(\" \")\n",
    "OnlyFemale = purchase_data.loc[purchase_data[\"Gender\"] == \"Female\", :] \n",
    "SumFemale = OnlyFemale[\"Price\"].sum()\n",
    "AveFemale = OnlyFemale[\"Price\"].mean()\n",
    "CntFemaleSN = len(OnlyFemale[\"SN\"].unique())\n",
    "AvePerFemale = SumFemale/CntFemaleSN\n",
    "\n",
    "print(\n",
    "    f\" Female Total: {CntFemale}\\n Female AvePrice: ${AveFemale:,.2f}\\n Female TotPrice: ${SumFemale:,.2f}\\n Female AvePerPerson: ${AvePerFemale:,.2f}\")\n",
    "print(\n",
    "    f\" Female Persons: {CntFemaleSN}\")\n",
    "print(\" \")\n",
    "OnlyOth = purchase_data.loc[purchase_data[\"Gender\"] == \"Other / Non-Disclosed\", :] \n",
    "SumOth = OnlyOth[\"Price\"].sum()\n",
    "AveOth = OnlyOth[\"Price\"].mean()\n",
    "CntOthSN = len(OnlyOth[\"SN\"].unique())\n",
    "AvePerOth = SumOth/CntOthSN\n",
    "\n",
    "print(\n",
    "    f\" Other Total: {CntOther}\\n Other AvePrice: ${AveOth:,.2f}\\n Other TotPrice: ${SumOth:,.2f}\\n Other AvePerPerson: ${AvePerOth:,.2f}\")\n",
    "print(\n",
    "    f\" Other Persons: {CntOthSN}\")\n",
    "print(\" \")\n",
    "# Create a new frame consolodating above calculations\n",
    "\n",
    "# Creating a Pandas DataFrame by passing in a LIST OF DICTIONARIES\n",
    "# Each value in the list is a dictionary\n",
    "# Imagine that each dictionary represents a row of data in our eventual purchase count, avg. purchase price, avg. purchase total per persontaframe\n",
    "# Each dictionary should have the same keys, since these keys dictate the column headers of our dataframe\n",
    "#                        purchase count, avg. purchase price, avg. purchase total per person\n",
    "my_list = [{\"Gender\": \"Male\", \"Purchase Count\": CntMale, \"Average Price Paid\": AveMale, \"Total Purchase Value\": SumMale, \"Average Purchase PerPerson\": AvePerMale},\n",
    "           {\"Gender\": \"Female\", \"Purchase Count\": CntFemale, \"Average Price Paid\": AveFemale, \"Total Purchase Value\": SumFemale, \"Average Purchase PerPerson\": AvePerFemale},\n",
    "           {\"Gender\": \"Other / Non-Disclosed\", \"Purchase Count\": CntOther, \"Average Price Paid\": AveOth, \"Total Purchase Value\": SumOth, \"Average Purchase PerPerson\": AvePerOth}]\n",
    "ConsolPdDf = pd.DataFrame(my_list)\n",
    "ConsolPdDf"
   ]
  },
  {
   "cell_type": "markdown",
   "metadata": {},
   "source": [
    "## Age Demographics"
   ]
  },
  {
   "cell_type": "markdown",
   "metadata": {},
   "source": [
    "* Establish bins for ages\n",
    "\n",
    "\n",
    "* Categorize the existing players using the age bins. Hint: use pd.cut()\n",
    "\n",
    "\n",
    "* Calculate the numbers and percentages by age group\n",
    "\n",
    "\n",
    "* Create a summary data frame to hold the results\n",
    "\n",
    "\n",
    "* Optional: round the percentage column to two decimal points\n",
    "\n",
    "\n",
    "* Display Age Demographics Table\n"
   ]
  },
  {
   "cell_type": "code",
   "execution_count": 6,
   "metadata": {},
   "outputs": [],
   "source": [
    "purchase_data_pd = pd.DataFrame(purchase_data)\n",
    "\n",
    "# ----ByPrchr_Data_pd is all the data I need including the purchasers with multiple items---\n",
    "ByPrchr_Data_pd = purchase_data_pd.loc[:,['SN', 'Age', 'Item ID', 'Item Name', 'Price']]\n",
    "#\n",
    "ByPrchr_Price_df = ByPrchr_Data_pd.groupby([\"SN\"]).sum()[\"Price\"]\n",
    "\n",
    "# ----ByPrchr_Data_pd is all the data I need by purchasers without the summed price data---\n",
    "ByPrchr_Uniq_pd = ByPrchr_Data_pd.drop_duplicates(subset='SN')\n",
    "#      drop unneeded Price Column\n",
    "ByPrchr_Uniq_pd = ByPrchr_Uniq_pd.drop(columns='Price')\n",
    "\n",
    "# ----------------sort the uniq's by SN then append...\n",
    "ByPrchr_UniqSorted_pd = ByPrchr_Uniq_pd.sort_values(by=['SN'])\n",
    "# --------------------Merge two dataframes using an inner join\n",
    "#  merge_table = pd.merge(_pd, _pd, on=\"\")\n",
    "ByPrchr_UniqSorted_pd = pd.merge(ByPrchr_UniqSorted_pd, ByPrchr_Price_df, on='SN')"
   ]
  },
  {
   "cell_type": "code",
   "execution_count": 7,
   "metadata": {},
   "outputs": [],
   "source": [
    "# Create bins and bin labels for the age column\n",
    "Aged_df = pd.DataFrame(ByPrchr_UniqSorted_pd,columns=[\"Age\", \"SN\", \"Price\"])\n",
    "\n",
    "Age_bins = [0, 9, 14, 19, 24, 29, 34, 39, 100]\n",
    "Age_labels = [\"<10\", \"10-14\", \"15-19\", \"20-24\", \"25-29\", \"30-34\", \"35-39\", \"40+\"]"
   ]
  },
  {
   "cell_type": "code",
   "execution_count": 8,
   "metadata": {},
   "outputs": [],
   "source": [
    "# Bin the Age column\n",
    "# cut() returns a Pandas Series containing each of the binned column's values \n",
    "#                                    translated into their corresponding bins\n",
    "# We can append our bins to Aged_df\n",
    "Aged_df[\"Level\"] = pd.cut(Aged_df[\"Age\"], Age_bins, labels=Age_labels)"
   ]
  },
  {
   "cell_type": "code",
   "execution_count": 9,
   "metadata": {},
   "outputs": [
    {
     "data": {
      "text/html": [
       "<style  type=\"text/css\" >\n",
       "</style><table id=\"T_026b376c_59bf_11ea_b5e6_507b9ddae9cd\" ><thead>    <tr>        <th class=\"blank level0\" ></th>        <th class=\"col_heading level0 col0\" >Total Count</th>        <th class=\"col_heading level0 col1\" >Percentage of Players</th>    </tr>    <tr>        <th class=\"index_name level0\" >Level</th>        <th class=\"blank\" ></th>        <th class=\"blank\" ></th>    </tr></thead><tbody>\n",
       "                <tr>\n",
       "                        <th id=\"T_026b376c_59bf_11ea_b5e6_507b9ddae9cdlevel0_row0\" class=\"row_heading level0 row0\" ><10</th>\n",
       "                        <td id=\"T_026b376c_59bf_11ea_b5e6_507b9ddae9cdrow0_col0\" class=\"data row0 col0\" >17</td>\n",
       "                        <td id=\"T_026b376c_59bf_11ea_b5e6_507b9ddae9cdrow0_col1\" class=\"data row0 col1\" >2.95%</td>\n",
       "            </tr>\n",
       "            <tr>\n",
       "                        <th id=\"T_026b376c_59bf_11ea_b5e6_507b9ddae9cdlevel0_row1\" class=\"row_heading level0 row1\" >10-14</th>\n",
       "                        <td id=\"T_026b376c_59bf_11ea_b5e6_507b9ddae9cdrow1_col0\" class=\"data row1 col0\" >22</td>\n",
       "                        <td id=\"T_026b376c_59bf_11ea_b5e6_507b9ddae9cdrow1_col1\" class=\"data row1 col1\" >3.82%</td>\n",
       "            </tr>\n",
       "            <tr>\n",
       "                        <th id=\"T_026b376c_59bf_11ea_b5e6_507b9ddae9cdlevel0_row2\" class=\"row_heading level0 row2\" >15-19</th>\n",
       "                        <td id=\"T_026b376c_59bf_11ea_b5e6_507b9ddae9cdrow2_col0\" class=\"data row2 col0\" >107</td>\n",
       "                        <td id=\"T_026b376c_59bf_11ea_b5e6_507b9ddae9cdrow2_col1\" class=\"data row2 col1\" >18.58%</td>\n",
       "            </tr>\n",
       "            <tr>\n",
       "                        <th id=\"T_026b376c_59bf_11ea_b5e6_507b9ddae9cdlevel0_row3\" class=\"row_heading level0 row3\" >20-24</th>\n",
       "                        <td id=\"T_026b376c_59bf_11ea_b5e6_507b9ddae9cdrow3_col0\" class=\"data row3 col0\" >258</td>\n",
       "                        <td id=\"T_026b376c_59bf_11ea_b5e6_507b9ddae9cdrow3_col1\" class=\"data row3 col1\" >44.79%</td>\n",
       "            </tr>\n",
       "            <tr>\n",
       "                        <th id=\"T_026b376c_59bf_11ea_b5e6_507b9ddae9cdlevel0_row4\" class=\"row_heading level0 row4\" >25-29</th>\n",
       "                        <td id=\"T_026b376c_59bf_11ea_b5e6_507b9ddae9cdrow4_col0\" class=\"data row4 col0\" >77</td>\n",
       "                        <td id=\"T_026b376c_59bf_11ea_b5e6_507b9ddae9cdrow4_col1\" class=\"data row4 col1\" >13.37%</td>\n",
       "            </tr>\n",
       "            <tr>\n",
       "                        <th id=\"T_026b376c_59bf_11ea_b5e6_507b9ddae9cdlevel0_row5\" class=\"row_heading level0 row5\" >30-34</th>\n",
       "                        <td id=\"T_026b376c_59bf_11ea_b5e6_507b9ddae9cdrow5_col0\" class=\"data row5 col0\" >52</td>\n",
       "                        <td id=\"T_026b376c_59bf_11ea_b5e6_507b9ddae9cdrow5_col1\" class=\"data row5 col1\" >9.03%</td>\n",
       "            </tr>\n",
       "            <tr>\n",
       "                        <th id=\"T_026b376c_59bf_11ea_b5e6_507b9ddae9cdlevel0_row6\" class=\"row_heading level0 row6\" >35-39</th>\n",
       "                        <td id=\"T_026b376c_59bf_11ea_b5e6_507b9ddae9cdrow6_col0\" class=\"data row6 col0\" >31</td>\n",
       "                        <td id=\"T_026b376c_59bf_11ea_b5e6_507b9ddae9cdrow6_col1\" class=\"data row6 col1\" >5.38%</td>\n",
       "            </tr>\n",
       "            <tr>\n",
       "                        <th id=\"T_026b376c_59bf_11ea_b5e6_507b9ddae9cdlevel0_row7\" class=\"row_heading level0 row7\" >40+</th>\n",
       "                        <td id=\"T_026b376c_59bf_11ea_b5e6_507b9ddae9cdrow7_col0\" class=\"data row7 col0\" >12</td>\n",
       "                        <td id=\"T_026b376c_59bf_11ea_b5e6_507b9ddae9cdrow7_col1\" class=\"data row7 col1\" >2.08%</td>\n",
       "            </tr>\n",
       "    </tbody></table>"
      ],
      "text/plain": [
       "<pandas.io.formats.style.Styler at 0x1c190dba780>"
      ]
     },
     "execution_count": 9,
     "metadata": {},
     "output_type": "execute_result"
    }
   ],
   "source": [
    "#   Group the Aged data by the Age Level we've created...\n",
    "\n",
    "# group the purchasers by count of purchases\n",
    "grouped_AgedByLvlCnt_df = Aged_df.groupby([\"Level\"]).count()['SN']\n",
    "grouped_AgedByLvlDol_df = Aged_df.groupby([\"Level\"]).sum()['Price']\n",
    "grouped_AgedByLvlCPct_df = grouped_AgedByLvlCnt_df / TotPlayers\n",
    "\n",
    "# Merge the tables \n",
    "ByPrchr_UniqSortedCompl_pd = pd.merge(grouped_AgedByLvlCnt_df, grouped_AgedByLvlCPct_df, on='Level')\n",
    "\n",
    "# rename the columns\n",
    "ByPrchrRen_pd = ByPrchr_UniqSortedCompl_pd.rename(columns={\"SN_x\":\"Total Count\", \"SN_y\":\"Percentage of Players\"})\n",
    "ByPrchrRen_pd.style.format({'Total Count': \"{:.0f}\",'Percentage of Players': \"{:.2%}\"})"
   ]
  },
  {
   "cell_type": "markdown",
   "metadata": {},
   "source": [
    "## Purchasing Analysis (Age)"
   ]
  },
  {
   "cell_type": "markdown",
   "metadata": {},
   "source": [
    "* Bin the purchase_data data frame by age\n",
    "\n",
    "\n",
    "* Run basic calculations to obtain purchase count, avg. purchase price, avg. purchase total per person etc. in the table below\n",
    "\n",
    "\n",
    "* Create a summary data frame to hold the results\n",
    "\n",
    "\n",
    "* Optional: give the displayed data cleaner formatting\n",
    "\n",
    "\n",
    "* Display the summary data frame"
   ]
  },
  {
   "cell_type": "code",
   "execution_count": 10,
   "metadata": {
    "scrolled": true
   },
   "outputs": [
    {
     "data": {
      "text/html": [
       "<style  type=\"text/css\" >\n",
       "</style><table id=\"T_05588bec_59bf_11ea_8fcd_507b9ddae9cd\" ><thead>    <tr>        <th class=\"blank level0\" ></th>        <th class=\"col_heading level0 col0\" >Purchase Count</th>        <th class=\"col_heading level0 col1\" >Average Purchase Price</th>        <th class=\"col_heading level0 col2\" >Total Purchase Value</th>        <th class=\"col_heading level0 col3\" >Avg Total Purchase per Person</th>    </tr>    <tr>        <th class=\"index_name level0\" >Level</th>        <th class=\"blank\" ></th>        <th class=\"blank\" ></th>        <th class=\"blank\" ></th>        <th class=\"blank\" ></th>    </tr></thead><tbody>\n",
       "                <tr>\n",
       "                        <th id=\"T_05588bec_59bf_11ea_8fcd_507b9ddae9cdlevel0_row0\" class=\"row_heading level0 row0\" ><10</th>\n",
       "                        <td id=\"T_05588bec_59bf_11ea_8fcd_507b9ddae9cdrow0_col0\" class=\"data row0 col0\" >23</td>\n",
       "                        <td id=\"T_05588bec_59bf_11ea_8fcd_507b9ddae9cdrow0_col1\" class=\"data row0 col1\" >$3.35</td>\n",
       "                        <td id=\"T_05588bec_59bf_11ea_8fcd_507b9ddae9cdrow0_col2\" class=\"data row0 col2\" >$77.13</td>\n",
       "                        <td id=\"T_05588bec_59bf_11ea_8fcd_507b9ddae9cdrow0_col3\" class=\"data row0 col3\" >$4.54</td>\n",
       "            </tr>\n",
       "            <tr>\n",
       "                        <th id=\"T_05588bec_59bf_11ea_8fcd_507b9ddae9cdlevel0_row1\" class=\"row_heading level0 row1\" >10-14</th>\n",
       "                        <td id=\"T_05588bec_59bf_11ea_8fcd_507b9ddae9cdrow1_col0\" class=\"data row1 col0\" >28</td>\n",
       "                        <td id=\"T_05588bec_59bf_11ea_8fcd_507b9ddae9cdrow1_col1\" class=\"data row1 col1\" >$2.96</td>\n",
       "                        <td id=\"T_05588bec_59bf_11ea_8fcd_507b9ddae9cdrow1_col2\" class=\"data row1 col2\" >$82.78</td>\n",
       "                        <td id=\"T_05588bec_59bf_11ea_8fcd_507b9ddae9cdrow1_col3\" class=\"data row1 col3\" >$3.76</td>\n",
       "            </tr>\n",
       "            <tr>\n",
       "                        <th id=\"T_05588bec_59bf_11ea_8fcd_507b9ddae9cdlevel0_row2\" class=\"row_heading level0 row2\" >15-19</th>\n",
       "                        <td id=\"T_05588bec_59bf_11ea_8fcd_507b9ddae9cdrow2_col0\" class=\"data row2 col0\" >136</td>\n",
       "                        <td id=\"T_05588bec_59bf_11ea_8fcd_507b9ddae9cdrow2_col1\" class=\"data row2 col1\" >$3.04</td>\n",
       "                        <td id=\"T_05588bec_59bf_11ea_8fcd_507b9ddae9cdrow2_col2\" class=\"data row2 col2\" >$412.89</td>\n",
       "                        <td id=\"T_05588bec_59bf_11ea_8fcd_507b9ddae9cdrow2_col3\" class=\"data row2 col3\" >$3.86</td>\n",
       "            </tr>\n",
       "            <tr>\n",
       "                        <th id=\"T_05588bec_59bf_11ea_8fcd_507b9ddae9cdlevel0_row3\" class=\"row_heading level0 row3\" >20-24</th>\n",
       "                        <td id=\"T_05588bec_59bf_11ea_8fcd_507b9ddae9cdrow3_col0\" class=\"data row3 col0\" >365</td>\n",
       "                        <td id=\"T_05588bec_59bf_11ea_8fcd_507b9ddae9cdrow3_col1\" class=\"data row3 col1\" >$3.05</td>\n",
       "                        <td id=\"T_05588bec_59bf_11ea_8fcd_507b9ddae9cdrow3_col2\" class=\"data row3 col2\" >$1114.06</td>\n",
       "                        <td id=\"T_05588bec_59bf_11ea_8fcd_507b9ddae9cdrow3_col3\" class=\"data row3 col3\" >$4.32</td>\n",
       "            </tr>\n",
       "            <tr>\n",
       "                        <th id=\"T_05588bec_59bf_11ea_8fcd_507b9ddae9cdlevel0_row4\" class=\"row_heading level0 row4\" >25-29</th>\n",
       "                        <td id=\"T_05588bec_59bf_11ea_8fcd_507b9ddae9cdrow4_col0\" class=\"data row4 col0\" >101</td>\n",
       "                        <td id=\"T_05588bec_59bf_11ea_8fcd_507b9ddae9cdrow4_col1\" class=\"data row4 col1\" >$2.90</td>\n",
       "                        <td id=\"T_05588bec_59bf_11ea_8fcd_507b9ddae9cdrow4_col2\" class=\"data row4 col2\" >$293.00</td>\n",
       "                        <td id=\"T_05588bec_59bf_11ea_8fcd_507b9ddae9cdrow4_col3\" class=\"data row4 col3\" >$3.81</td>\n",
       "            </tr>\n",
       "            <tr>\n",
       "                        <th id=\"T_05588bec_59bf_11ea_8fcd_507b9ddae9cdlevel0_row5\" class=\"row_heading level0 row5\" >30-34</th>\n",
       "                        <td id=\"T_05588bec_59bf_11ea_8fcd_507b9ddae9cdrow5_col0\" class=\"data row5 col0\" >73</td>\n",
       "                        <td id=\"T_05588bec_59bf_11ea_8fcd_507b9ddae9cdrow5_col1\" class=\"data row5 col1\" >$2.93</td>\n",
       "                        <td id=\"T_05588bec_59bf_11ea_8fcd_507b9ddae9cdrow5_col2\" class=\"data row5 col2\" >$214.00</td>\n",
       "                        <td id=\"T_05588bec_59bf_11ea_8fcd_507b9ddae9cdrow5_col3\" class=\"data row5 col3\" >$4.12</td>\n",
       "            </tr>\n",
       "            <tr>\n",
       "                        <th id=\"T_05588bec_59bf_11ea_8fcd_507b9ddae9cdlevel0_row6\" class=\"row_heading level0 row6\" >35-39</th>\n",
       "                        <td id=\"T_05588bec_59bf_11ea_8fcd_507b9ddae9cdrow6_col0\" class=\"data row6 col0\" >41</td>\n",
       "                        <td id=\"T_05588bec_59bf_11ea_8fcd_507b9ddae9cdrow6_col1\" class=\"data row6 col1\" >$3.60</td>\n",
       "                        <td id=\"T_05588bec_59bf_11ea_8fcd_507b9ddae9cdrow6_col2\" class=\"data row6 col2\" >$147.67</td>\n",
       "                        <td id=\"T_05588bec_59bf_11ea_8fcd_507b9ddae9cdrow6_col3\" class=\"data row6 col3\" >$4.76</td>\n",
       "            </tr>\n",
       "            <tr>\n",
       "                        <th id=\"T_05588bec_59bf_11ea_8fcd_507b9ddae9cdlevel0_row7\" class=\"row_heading level0 row7\" >40+</th>\n",
       "                        <td id=\"T_05588bec_59bf_11ea_8fcd_507b9ddae9cdrow7_col0\" class=\"data row7 col0\" >13</td>\n",
       "                        <td id=\"T_05588bec_59bf_11ea_8fcd_507b9ddae9cdrow7_col1\" class=\"data row7 col1\" >$2.94</td>\n",
       "                        <td id=\"T_05588bec_59bf_11ea_8fcd_507b9ddae9cdrow7_col2\" class=\"data row7 col2\" >$38.24</td>\n",
       "                        <td id=\"T_05588bec_59bf_11ea_8fcd_507b9ddae9cdrow7_col3\" class=\"data row7 col3\" >$3.19</td>\n",
       "            </tr>\n",
       "    </tbody></table>"
      ],
      "text/plain": [
       "<pandas.io.formats.style.Styler at 0x1c190dacfd0>"
      ]
     },
     "execution_count": 10,
     "metadata": {},
     "output_type": "execute_result"
    }
   ],
   "source": [
    "# ----these values are accumulated by Age Level without regard to purchaser  -----\n",
    "RawPurch_pd = pd.DataFrame(purchase_data)\n",
    "RawAged_data_pd = RawPurch_pd\n",
    "RawAged_data_pd[\"Level\"] = pd.cut(RawPurch_pd[\"Age\"], Age_bins, labels=Age_labels)\n",
    "# -------------------------------------------Purchase Count\n",
    "grouped_RawAgedCnt_pd = pd.DataFrame(RawAged_data_pd.groupby([\"Level\"]).count()['Item ID'])\n",
    "grouped_RawAgedCnt = RawAged_data_pd.groupby([\"Level\"]).count()['Item ID']\n",
    "\n",
    "# group the purchasers by age level ----------Total Purchase Value\n",
    "grouped_RawAgedDol_pd = pd.DataFrame(RawAged_data_pd.groupby([\"Level\"]).sum()['Price'])\n",
    "grouped_RawAgedDol = RawAged_data_pd.groupby([\"Level\"]).sum()['Price']\n",
    "\n",
    "# ---------------------------------------------Average Purchase Price\n",
    "grouped_RawAgedAve_pd = pd.DataFrame(grouped_RawAgedDol / grouped_RawAgedCnt)\n",
    "\n",
    "# ---------------------------------------------Avg Total Purchase per Person\n",
    "grouped_AgedByLvlPrctg_pd = pd.DataFrame(grouped_AgedByLvlDol_df / grouped_AgedByLvlCnt_df)\n",
    "\n",
    "# ---------------------------------Merge the values \n",
    "grouped_RawCompl_pd = pd.DataFrame() #=========creates a new dataframe that's empty\n",
    "grouped_RawCompl_pd = pd.merge(grouped_RawAgedCnt_pd, grouped_RawAgedAve_pd, on='Level')\n",
    "grouped_RawCompl_pd = pd.merge(grouped_RawCompl_pd, grouped_RawAgedDol_pd, on='Level')\n",
    "grouped_RawCompl_pd = pd.merge(grouped_RawCompl_pd, grouped_AgedByLvlPrctg_pd, on='Level')\n",
    "# ---------------------------- rename apply labels -------------------------\n",
    "grouped_RawCompl_pd = grouped_RawCompl_pd.rename(columns={\"Item ID\":\"Purchase Count\"})\n",
    "grouped_RawCompl_pd = grouped_RawCompl_pd.rename(columns={\"0_x\":\"Average Purchase Price\"})\n",
    "grouped_RawCompl_pd = grouped_RawCompl_pd.rename(columns={\"Price\":\"Total Purchase Value\"})\n",
    "grouped_RawCompl_pd = grouped_RawCompl_pd.rename(columns={\"0_y\":\"Avg Total Purchase per Person\"})\n",
    "# ------------------------display in formated style for readability -----\n",
    "grouped_RawCompl_pd.style.format({'Average Purchase Price': \"${:.2f}\",\n",
    "                                  'Total Purchase Value': \"${:.2f}\",\n",
    "                                  'Avg Total Purchase per Person': \"${:.2f}\"\n",
    "                                 })"
   ]
  },
  {
   "cell_type": "markdown",
   "metadata": {},
   "source": [
    "## Top Spenders"
   ]
  },
  {
   "cell_type": "markdown",
   "metadata": {},
   "source": [
    "* Run basic calculations to obtain the results in the table below\n",
    "\n",
    "\n",
    "* Create a summary data frame to hold the results\n",
    "\n",
    "\n",
    "* Sort the total purchase value column in descending order\n",
    "\n",
    "\n",
    "* Optional: give the displayed data cleaner formatting\n",
    "\n",
    "\n",
    "* Display a preview of the summary data frame\n",
    "\n"
   ]
  },
  {
   "cell_type": "code",
   "execution_count": 14,
   "metadata": {},
   "outputs": [
    {
     "data": {
      "text/html": [
       "<style  type=\"text/css\" >\n",
       "</style><table id=\"T_69673a64_59bf_11ea_af1e_507b9ddae9cd\" ><thead>    <tr>        <th class=\"blank level0\" ></th>        <th class=\"col_heading level0 col0\" >Purchase Count</th>        <th class=\"col_heading level0 col1\" >Average Purchase Price</th>        <th class=\"col_heading level0 col2\" >Total Purchase Value</th>    </tr>    <tr>        <th class=\"index_name level0\" >SN</th>        <th class=\"blank\" ></th>        <th class=\"blank\" ></th>        <th class=\"blank\" ></th>    </tr></thead><tbody>\n",
       "                <tr>\n",
       "                        <th id=\"T_69673a64_59bf_11ea_af1e_507b9ddae9cdlevel0_row0\" class=\"row_heading level0 row0\" >Lisosia93</th>\n",
       "                        <td id=\"T_69673a64_59bf_11ea_af1e_507b9ddae9cdrow0_col0\" class=\"data row0 col0\" >5</td>\n",
       "                        <td id=\"T_69673a64_59bf_11ea_af1e_507b9ddae9cdrow0_col1\" class=\"data row0 col1\" >$3.79</td>\n",
       "                        <td id=\"T_69673a64_59bf_11ea_af1e_507b9ddae9cdrow0_col2\" class=\"data row0 col2\" >$18.96</td>\n",
       "            </tr>\n",
       "            <tr>\n",
       "                        <th id=\"T_69673a64_59bf_11ea_af1e_507b9ddae9cdlevel0_row1\" class=\"row_heading level0 row1\" >Idastidru52</th>\n",
       "                        <td id=\"T_69673a64_59bf_11ea_af1e_507b9ddae9cdrow1_col0\" class=\"data row1 col0\" >4</td>\n",
       "                        <td id=\"T_69673a64_59bf_11ea_af1e_507b9ddae9cdrow1_col1\" class=\"data row1 col1\" >$3.86</td>\n",
       "                        <td id=\"T_69673a64_59bf_11ea_af1e_507b9ddae9cdrow1_col2\" class=\"data row1 col2\" >$15.45</td>\n",
       "            </tr>\n",
       "            <tr>\n",
       "                        <th id=\"T_69673a64_59bf_11ea_af1e_507b9ddae9cdlevel0_row2\" class=\"row_heading level0 row2\" >Chamjask73</th>\n",
       "                        <td id=\"T_69673a64_59bf_11ea_af1e_507b9ddae9cdrow2_col0\" class=\"data row2 col0\" >3</td>\n",
       "                        <td id=\"T_69673a64_59bf_11ea_af1e_507b9ddae9cdrow2_col1\" class=\"data row2 col1\" >$4.61</td>\n",
       "                        <td id=\"T_69673a64_59bf_11ea_af1e_507b9ddae9cdrow2_col2\" class=\"data row2 col2\" >$13.83</td>\n",
       "            </tr>\n",
       "            <tr>\n",
       "                        <th id=\"T_69673a64_59bf_11ea_af1e_507b9ddae9cdlevel0_row3\" class=\"row_heading level0 row3\" >Iral74</th>\n",
       "                        <td id=\"T_69673a64_59bf_11ea_af1e_507b9ddae9cdrow3_col0\" class=\"data row3 col0\" >4</td>\n",
       "                        <td id=\"T_69673a64_59bf_11ea_af1e_507b9ddae9cdrow3_col1\" class=\"data row3 col1\" >$3.40</td>\n",
       "                        <td id=\"T_69673a64_59bf_11ea_af1e_507b9ddae9cdrow3_col2\" class=\"data row3 col2\" >$13.62</td>\n",
       "            </tr>\n",
       "            <tr>\n",
       "                        <th id=\"T_69673a64_59bf_11ea_af1e_507b9ddae9cdlevel0_row4\" class=\"row_heading level0 row4\" >Iskadarya95</th>\n",
       "                        <td id=\"T_69673a64_59bf_11ea_af1e_507b9ddae9cdrow4_col0\" class=\"data row4 col0\" >3</td>\n",
       "                        <td id=\"T_69673a64_59bf_11ea_af1e_507b9ddae9cdrow4_col1\" class=\"data row4 col1\" >$4.37</td>\n",
       "                        <td id=\"T_69673a64_59bf_11ea_af1e_507b9ddae9cdrow4_col2\" class=\"data row4 col2\" >$13.10</td>\n",
       "            </tr>\n",
       "    </tbody></table>"
      ],
      "text/plain": [
       "<pandas.io.formats.style.Styler at 0x1c19083c6d8>"
      ]
     },
     "execution_count": 14,
     "metadata": {},
     "output_type": "execute_result"
    }
   ],
   "source": [
    "# purchase_data_pd contains the correct info \n",
    "\n",
    "# ---------- Use the group by to rollup the appropriate aggregations ----\n",
    "TopPurchCnt = purchase_data_pd.groupby(['SN']).count()['Price']\n",
    "TopPurchAve = purchase_data_pd.groupby(['SN']).mean()['Price']\n",
    "TopPurchTot = purchase_data_pd.groupby(['SN']).sum()['Price']\n",
    "# ---------- Pack the calculated value series into a dataframe and give them the correct labels----\n",
    "TopSpender_pd = pd.DataFrame({\n",
    "                            'Purchase Count': TopPurchCnt,\n",
    "                            'Average Purchase Price': TopPurchAve,\n",
    "                            'Total Purchase Value': TopPurchTot\n",
    "                            })\n",
    "# ----get the (5) max by sorting in descending order and then use head() to chop only the first 5 ---\n",
    "MaxSpender_pd = TopSpender_pd.sort_values(by=['Total Purchase Value'], ascending=False).head(5)\n",
    "# ------------------------display in formated style for readability -----\n",
    "MaxSpender_pd.style.format({'Average Purchase Price': \"${:.2f}\",\n",
    "                            'Total Purchase Value': \"${:.2f}\"\n",
    "                           })"
   ]
  },
  {
   "cell_type": "code",
   "execution_count": null,
   "metadata": {},
   "outputs": [],
   "source": []
  },
  {
   "cell_type": "markdown",
   "metadata": {},
   "source": [
    "## Most Popular Items"
   ]
  },
  {
   "cell_type": "markdown",
   "metadata": {},
   "source": [
    "* Retrieve the Item ID, Item Name, and Item Price columns\n",
    "\n",
    "\n",
    "* Group by Item ID and Item Name. Perform calculations to obtain purchase count, item price, and total purchase value\n",
    "\n",
    "\n",
    "* Create a summary data frame to hold the results\n",
    "\n",
    "\n",
    "* Sort the purchase count column in descending order\n",
    "\n",
    "\n",
    "* Optional: give the displayed data cleaner formatting\n",
    "\n",
    "\n",
    "* Display a preview of the summary data frame\n",
    "\n"
   ]
  },
  {
   "cell_type": "code",
   "execution_count": 18,
   "metadata": {},
   "outputs": [
    {
     "data": {
      "text/html": [
       "<style  type=\"text/css\" >\n",
       "</style><table id=\"T_6532e854_59c0_11ea_bce5_507b9ddae9cd\" ><thead>    <tr>        <th class=\"blank\" ></th>        <th class=\"blank level0\" ></th>        <th class=\"col_heading level0 col0\" >Purchase Count</th>        <th class=\"col_heading level0 col1\" >Item Price</th>        <th class=\"col_heading level0 col2\" >Total Purchase Value</th>    </tr>    <tr>        <th class=\"index_name level0\" >Item ID</th>        <th class=\"index_name level1\" >Item Name</th>        <th class=\"blank\" ></th>        <th class=\"blank\" ></th>        <th class=\"blank\" ></th>    </tr></thead><tbody>\n",
       "                <tr>\n",
       "                        <th id=\"T_6532e854_59c0_11ea_bce5_507b9ddae9cdlevel0_row0\" class=\"row_heading level0 row0\" >178</th>\n",
       "                        <th id=\"T_6532e854_59c0_11ea_bce5_507b9ddae9cdlevel1_row0\" class=\"row_heading level1 row0\" >Oathbreaker, Last Hope of the Breaking Storm</th>\n",
       "                        <td id=\"T_6532e854_59c0_11ea_bce5_507b9ddae9cdrow0_col0\" class=\"data row0 col0\" >12</td>\n",
       "                        <td id=\"T_6532e854_59c0_11ea_bce5_507b9ddae9cdrow0_col1\" class=\"data row0 col1\" >$4.23</td>\n",
       "                        <td id=\"T_6532e854_59c0_11ea_bce5_507b9ddae9cdrow0_col2\" class=\"data row0 col2\" >$50.76</td>\n",
       "            </tr>\n",
       "            <tr>\n",
       "                        <th id=\"T_6532e854_59c0_11ea_bce5_507b9ddae9cdlevel0_row1\" class=\"row_heading level0 row1\" >145</th>\n",
       "                        <th id=\"T_6532e854_59c0_11ea_bce5_507b9ddae9cdlevel1_row1\" class=\"row_heading level1 row1\" >Fiery Glass Crusader</th>\n",
       "                        <td id=\"T_6532e854_59c0_11ea_bce5_507b9ddae9cdrow1_col0\" class=\"data row1 col0\" >9</td>\n",
       "                        <td id=\"T_6532e854_59c0_11ea_bce5_507b9ddae9cdrow1_col1\" class=\"data row1 col1\" >$4.58</td>\n",
       "                        <td id=\"T_6532e854_59c0_11ea_bce5_507b9ddae9cdrow1_col2\" class=\"data row1 col2\" >$41.22</td>\n",
       "            </tr>\n",
       "            <tr>\n",
       "                        <th id=\"T_6532e854_59c0_11ea_bce5_507b9ddae9cdlevel0_row2\" class=\"row_heading level0 row2\" >108</th>\n",
       "                        <th id=\"T_6532e854_59c0_11ea_bce5_507b9ddae9cdlevel1_row2\" class=\"row_heading level1 row2\" >Extraction, Quickblade Of Trembling Hands</th>\n",
       "                        <td id=\"T_6532e854_59c0_11ea_bce5_507b9ddae9cdrow2_col0\" class=\"data row2 col0\" >9</td>\n",
       "                        <td id=\"T_6532e854_59c0_11ea_bce5_507b9ddae9cdrow2_col1\" class=\"data row2 col1\" >$3.53</td>\n",
       "                        <td id=\"T_6532e854_59c0_11ea_bce5_507b9ddae9cdrow2_col2\" class=\"data row2 col2\" >$31.77</td>\n",
       "            </tr>\n",
       "            <tr>\n",
       "                        <th id=\"T_6532e854_59c0_11ea_bce5_507b9ddae9cdlevel0_row3\" class=\"row_heading level0 row3\" >82</th>\n",
       "                        <th id=\"T_6532e854_59c0_11ea_bce5_507b9ddae9cdlevel1_row3\" class=\"row_heading level1 row3\" >Nirvana</th>\n",
       "                        <td id=\"T_6532e854_59c0_11ea_bce5_507b9ddae9cdrow3_col0\" class=\"data row3 col0\" >9</td>\n",
       "                        <td id=\"T_6532e854_59c0_11ea_bce5_507b9ddae9cdrow3_col1\" class=\"data row3 col1\" >$4.90</td>\n",
       "                        <td id=\"T_6532e854_59c0_11ea_bce5_507b9ddae9cdrow3_col2\" class=\"data row3 col2\" >$44.10</td>\n",
       "            </tr>\n",
       "            <tr>\n",
       "                        <th id=\"T_6532e854_59c0_11ea_bce5_507b9ddae9cdlevel0_row4\" class=\"row_heading level0 row4\" >19</th>\n",
       "                        <th id=\"T_6532e854_59c0_11ea_bce5_507b9ddae9cdlevel1_row4\" class=\"row_heading level1 row4\" >Pursuit, Cudgel of Necromancy</th>\n",
       "                        <td id=\"T_6532e854_59c0_11ea_bce5_507b9ddae9cdrow4_col0\" class=\"data row4 col0\" >8</td>\n",
       "                        <td id=\"T_6532e854_59c0_11ea_bce5_507b9ddae9cdrow4_col1\" class=\"data row4 col1\" >$1.02</td>\n",
       "                        <td id=\"T_6532e854_59c0_11ea_bce5_507b9ddae9cdrow4_col2\" class=\"data row4 col2\" >$8.16</td>\n",
       "            </tr>\n",
       "            <tr>\n",
       "                        <th id=\"T_6532e854_59c0_11ea_bce5_507b9ddae9cdlevel0_row5\" class=\"row_heading level0 row5\" >103</th>\n",
       "                        <th id=\"T_6532e854_59c0_11ea_bce5_507b9ddae9cdlevel1_row5\" class=\"row_heading level1 row5\" >Singed Scalpel</th>\n",
       "                        <td id=\"T_6532e854_59c0_11ea_bce5_507b9ddae9cdrow5_col0\" class=\"data row5 col0\" >8</td>\n",
       "                        <td id=\"T_6532e854_59c0_11ea_bce5_507b9ddae9cdrow5_col1\" class=\"data row5 col1\" >$4.35</td>\n",
       "                        <td id=\"T_6532e854_59c0_11ea_bce5_507b9ddae9cdrow5_col2\" class=\"data row5 col2\" >$34.80</td>\n",
       "            </tr>\n",
       "            <tr>\n",
       "                        <th id=\"T_6532e854_59c0_11ea_bce5_507b9ddae9cdlevel0_row6\" class=\"row_heading level0 row6\" >75</th>\n",
       "                        <th id=\"T_6532e854_59c0_11ea_bce5_507b9ddae9cdlevel1_row6\" class=\"row_heading level1 row6\" >Brutality Ivory Warmace</th>\n",
       "                        <td id=\"T_6532e854_59c0_11ea_bce5_507b9ddae9cdrow6_col0\" class=\"data row6 col0\" >8</td>\n",
       "                        <td id=\"T_6532e854_59c0_11ea_bce5_507b9ddae9cdrow6_col1\" class=\"data row6 col1\" >$2.42</td>\n",
       "                        <td id=\"T_6532e854_59c0_11ea_bce5_507b9ddae9cdrow6_col2\" class=\"data row6 col2\" >$19.36</td>\n",
       "            </tr>\n",
       "            <tr>\n",
       "                        <th id=\"T_6532e854_59c0_11ea_bce5_507b9ddae9cdlevel0_row7\" class=\"row_heading level0 row7\" >72</th>\n",
       "                        <th id=\"T_6532e854_59c0_11ea_bce5_507b9ddae9cdlevel1_row7\" class=\"row_heading level1 row7\" >Winter's Bite</th>\n",
       "                        <td id=\"T_6532e854_59c0_11ea_bce5_507b9ddae9cdrow7_col0\" class=\"data row7 col0\" >8</td>\n",
       "                        <td id=\"T_6532e854_59c0_11ea_bce5_507b9ddae9cdrow7_col1\" class=\"data row7 col1\" >$3.77</td>\n",
       "                        <td id=\"T_6532e854_59c0_11ea_bce5_507b9ddae9cdrow7_col2\" class=\"data row7 col2\" >$30.16</td>\n",
       "            </tr>\n",
       "            <tr>\n",
       "                        <th id=\"T_6532e854_59c0_11ea_bce5_507b9ddae9cdlevel0_row8\" class=\"row_heading level0 row8\" >60</th>\n",
       "                        <th id=\"T_6532e854_59c0_11ea_bce5_507b9ddae9cdlevel1_row8\" class=\"row_heading level1 row8\" >Wolf</th>\n",
       "                        <td id=\"T_6532e854_59c0_11ea_bce5_507b9ddae9cdrow8_col0\" class=\"data row8 col0\" >8</td>\n",
       "                        <td id=\"T_6532e854_59c0_11ea_bce5_507b9ddae9cdrow8_col1\" class=\"data row8 col1\" >$3.54</td>\n",
       "                        <td id=\"T_6532e854_59c0_11ea_bce5_507b9ddae9cdrow8_col2\" class=\"data row8 col2\" >$28.32</td>\n",
       "            </tr>\n",
       "            <tr>\n",
       "                        <th id=\"T_6532e854_59c0_11ea_bce5_507b9ddae9cdlevel0_row9\" class=\"row_heading level0 row9\" >59</th>\n",
       "                        <th id=\"T_6532e854_59c0_11ea_bce5_507b9ddae9cdlevel1_row9\" class=\"row_heading level1 row9\" >Lightning, Etcher of the King</th>\n",
       "                        <td id=\"T_6532e854_59c0_11ea_bce5_507b9ddae9cdrow9_col0\" class=\"data row9 col0\" >8</td>\n",
       "                        <td id=\"T_6532e854_59c0_11ea_bce5_507b9ddae9cdrow9_col1\" class=\"data row9 col1\" >$4.23</td>\n",
       "                        <td id=\"T_6532e854_59c0_11ea_bce5_507b9ddae9cdrow9_col2\" class=\"data row9 col2\" >$33.84</td>\n",
       "            </tr>\n",
       "    </tbody></table>"
      ],
      "text/plain": [
       "<pandas.io.formats.style.Styler at 0x1c1924dbc18>"
      ]
     },
     "execution_count": 18,
     "metadata": {},
     "output_type": "execute_result"
    }
   ],
   "source": [
    "# purchase_data_pd contains the correct info \n",
    "# ----PopData_pd is all the data I need including the purchasers with multiple items---\n",
    "PopData_pd = purchase_data_pd.loc[:,['Item ID', 'Item Name', 'Price']]\n",
    "\n",
    "# ---------- Use the group by to rollup the appropriate aggregations ----\n",
    "GrpPopDataCnt = PopData_pd.groupby(['Item ID', 'Item Name']).count()['Price']\n",
    "GrpPopDataTot = PopData_pd.groupby(['Item ID', 'Item Name']).sum()['Price']\n",
    "\n",
    "# ----PopData_pd is all the data I need by Item/Name ---\n",
    "GrpPopDataPrc = PopData_pd.drop_duplicates(subset=['Item ID', 'Item Name'])\n",
    "PopDataPrc = GrpPopDataPrc.set_index(['Item ID', 'Item Name'])\n",
    "# ----chg DataFrame to Series\n",
    "GrpPopDataP = pd.Series(PopDataPrc['Price'], index=PopDataPrc.index)\n",
    "\n",
    "# ---------- Pack the calculated value series into a dataframe and give them the correct labels----\n",
    "PopPurch_pd = pd.DataFrame({\n",
    "                            'Purchase Count': GrpPopDataCnt,\n",
    "                            'Item Price': GrpPopDataP,\n",
    "                            'Total Purchase Value': GrpPopDataTot\n",
    "                            })\n",
    "SrtPopPurch_pd = PopPurch_pd.sort_values(by=['Purchase Count'], ascending=False).head(10)\n",
    "# ------------------------display in formated style for readability -----\n",
    "SrtPopPurch_pd.style.format({'Item Price': \"${:.2f}\",\n",
    "                             'Total Purchase Value': \"${:.2f}\"\n",
    "                           })"
   ]
  },
  {
   "cell_type": "markdown",
   "metadata": {},
   "source": [
    "## Most Profitable Items"
   ]
  },
  {
   "cell_type": "markdown",
   "metadata": {},
   "source": [
    "* Sort the above table by total purchase value in descending order\n",
    "\n",
    "\n",
    "* Optional: give the displayed data cleaner formatting\n",
    "\n",
    "\n",
    "* Display a preview of the data frame\n",
    "\n"
   ]
  },
  {
   "cell_type": "code",
   "execution_count": 20,
   "metadata": {},
   "outputs": [
    {
     "data": {
      "text/html": [
       "<style  type=\"text/css\" >\n",
       "</style><table id=\"T_7fe06a40_59c0_11ea_b117_507b9ddae9cd\" ><thead>    <tr>        <th class=\"blank\" ></th>        <th class=\"blank level0\" ></th>        <th class=\"col_heading level0 col0\" >Purchase Count</th>        <th class=\"col_heading level0 col1\" >Item Price</th>        <th class=\"col_heading level0 col2\" >Total Purchase Value</th>    </tr>    <tr>        <th class=\"index_name level0\" >Item ID</th>        <th class=\"index_name level1\" >Item Name</th>        <th class=\"blank\" ></th>        <th class=\"blank\" ></th>        <th class=\"blank\" ></th>    </tr></thead><tbody>\n",
       "                <tr>\n",
       "                        <th id=\"T_7fe06a40_59c0_11ea_b117_507b9ddae9cdlevel0_row0\" class=\"row_heading level0 row0\" >178</th>\n",
       "                        <th id=\"T_7fe06a40_59c0_11ea_b117_507b9ddae9cdlevel1_row0\" class=\"row_heading level1 row0\" >Oathbreaker, Last Hope of the Breaking Storm</th>\n",
       "                        <td id=\"T_7fe06a40_59c0_11ea_b117_507b9ddae9cdrow0_col0\" class=\"data row0 col0\" >12</td>\n",
       "                        <td id=\"T_7fe06a40_59c0_11ea_b117_507b9ddae9cdrow0_col1\" class=\"data row0 col1\" >$4.23</td>\n",
       "                        <td id=\"T_7fe06a40_59c0_11ea_b117_507b9ddae9cdrow0_col2\" class=\"data row0 col2\" >$50.76</td>\n",
       "            </tr>\n",
       "            <tr>\n",
       "                        <th id=\"T_7fe06a40_59c0_11ea_b117_507b9ddae9cdlevel0_row1\" class=\"row_heading level0 row1\" >82</th>\n",
       "                        <th id=\"T_7fe06a40_59c0_11ea_b117_507b9ddae9cdlevel1_row1\" class=\"row_heading level1 row1\" >Nirvana</th>\n",
       "                        <td id=\"T_7fe06a40_59c0_11ea_b117_507b9ddae9cdrow1_col0\" class=\"data row1 col0\" >9</td>\n",
       "                        <td id=\"T_7fe06a40_59c0_11ea_b117_507b9ddae9cdrow1_col1\" class=\"data row1 col1\" >$4.90</td>\n",
       "                        <td id=\"T_7fe06a40_59c0_11ea_b117_507b9ddae9cdrow1_col2\" class=\"data row1 col2\" >$44.10</td>\n",
       "            </tr>\n",
       "            <tr>\n",
       "                        <th id=\"T_7fe06a40_59c0_11ea_b117_507b9ddae9cdlevel0_row2\" class=\"row_heading level0 row2\" >145</th>\n",
       "                        <th id=\"T_7fe06a40_59c0_11ea_b117_507b9ddae9cdlevel1_row2\" class=\"row_heading level1 row2\" >Fiery Glass Crusader</th>\n",
       "                        <td id=\"T_7fe06a40_59c0_11ea_b117_507b9ddae9cdrow2_col0\" class=\"data row2 col0\" >9</td>\n",
       "                        <td id=\"T_7fe06a40_59c0_11ea_b117_507b9ddae9cdrow2_col1\" class=\"data row2 col1\" >$4.58</td>\n",
       "                        <td id=\"T_7fe06a40_59c0_11ea_b117_507b9ddae9cdrow2_col2\" class=\"data row2 col2\" >$41.22</td>\n",
       "            </tr>\n",
       "            <tr>\n",
       "                        <th id=\"T_7fe06a40_59c0_11ea_b117_507b9ddae9cdlevel0_row3\" class=\"row_heading level0 row3\" >92</th>\n",
       "                        <th id=\"T_7fe06a40_59c0_11ea_b117_507b9ddae9cdlevel1_row3\" class=\"row_heading level1 row3\" >Final Critic</th>\n",
       "                        <td id=\"T_7fe06a40_59c0_11ea_b117_507b9ddae9cdrow3_col0\" class=\"data row3 col0\" >8</td>\n",
       "                        <td id=\"T_7fe06a40_59c0_11ea_b117_507b9ddae9cdrow3_col1\" class=\"data row3 col1\" >$4.88</td>\n",
       "                        <td id=\"T_7fe06a40_59c0_11ea_b117_507b9ddae9cdrow3_col2\" class=\"data row3 col2\" >$39.04</td>\n",
       "            </tr>\n",
       "            <tr>\n",
       "                        <th id=\"T_7fe06a40_59c0_11ea_b117_507b9ddae9cdlevel0_row4\" class=\"row_heading level0 row4\" >103</th>\n",
       "                        <th id=\"T_7fe06a40_59c0_11ea_b117_507b9ddae9cdlevel1_row4\" class=\"row_heading level1 row4\" >Singed Scalpel</th>\n",
       "                        <td id=\"T_7fe06a40_59c0_11ea_b117_507b9ddae9cdrow4_col0\" class=\"data row4 col0\" >8</td>\n",
       "                        <td id=\"T_7fe06a40_59c0_11ea_b117_507b9ddae9cdrow4_col1\" class=\"data row4 col1\" >$4.35</td>\n",
       "                        <td id=\"T_7fe06a40_59c0_11ea_b117_507b9ddae9cdrow4_col2\" class=\"data row4 col2\" >$34.80</td>\n",
       "            </tr>\n",
       "            <tr>\n",
       "                        <th id=\"T_7fe06a40_59c0_11ea_b117_507b9ddae9cdlevel0_row5\" class=\"row_heading level0 row5\" >59</th>\n",
       "                        <th id=\"T_7fe06a40_59c0_11ea_b117_507b9ddae9cdlevel1_row5\" class=\"row_heading level1 row5\" >Lightning, Etcher of the King</th>\n",
       "                        <td id=\"T_7fe06a40_59c0_11ea_b117_507b9ddae9cdrow5_col0\" class=\"data row5 col0\" >8</td>\n",
       "                        <td id=\"T_7fe06a40_59c0_11ea_b117_507b9ddae9cdrow5_col1\" class=\"data row5 col1\" >$4.23</td>\n",
       "                        <td id=\"T_7fe06a40_59c0_11ea_b117_507b9ddae9cdrow5_col2\" class=\"data row5 col2\" >$33.84</td>\n",
       "            </tr>\n",
       "            <tr>\n",
       "                        <th id=\"T_7fe06a40_59c0_11ea_b117_507b9ddae9cdlevel0_row6\" class=\"row_heading level0 row6\" >108</th>\n",
       "                        <th id=\"T_7fe06a40_59c0_11ea_b117_507b9ddae9cdlevel1_row6\" class=\"row_heading level1 row6\" >Extraction, Quickblade Of Trembling Hands</th>\n",
       "                        <td id=\"T_7fe06a40_59c0_11ea_b117_507b9ddae9cdrow6_col0\" class=\"data row6 col0\" >9</td>\n",
       "                        <td id=\"T_7fe06a40_59c0_11ea_b117_507b9ddae9cdrow6_col1\" class=\"data row6 col1\" >$3.53</td>\n",
       "                        <td id=\"T_7fe06a40_59c0_11ea_b117_507b9ddae9cdrow6_col2\" class=\"data row6 col2\" >$31.77</td>\n",
       "            </tr>\n",
       "            <tr>\n",
       "                        <th id=\"T_7fe06a40_59c0_11ea_b117_507b9ddae9cdlevel0_row7\" class=\"row_heading level0 row7\" >78</th>\n",
       "                        <th id=\"T_7fe06a40_59c0_11ea_b117_507b9ddae9cdlevel1_row7\" class=\"row_heading level1 row7\" >Glimmer, Ender of the Moon</th>\n",
       "                        <td id=\"T_7fe06a40_59c0_11ea_b117_507b9ddae9cdrow7_col0\" class=\"data row7 col0\" >7</td>\n",
       "                        <td id=\"T_7fe06a40_59c0_11ea_b117_507b9ddae9cdrow7_col1\" class=\"data row7 col1\" >$4.40</td>\n",
       "                        <td id=\"T_7fe06a40_59c0_11ea_b117_507b9ddae9cdrow7_col2\" class=\"data row7 col2\" >$30.80</td>\n",
       "            </tr>\n",
       "            <tr>\n",
       "                        <th id=\"T_7fe06a40_59c0_11ea_b117_507b9ddae9cdlevel0_row8\" class=\"row_heading level0 row8\" >72</th>\n",
       "                        <th id=\"T_7fe06a40_59c0_11ea_b117_507b9ddae9cdlevel1_row8\" class=\"row_heading level1 row8\" >Winter's Bite</th>\n",
       "                        <td id=\"T_7fe06a40_59c0_11ea_b117_507b9ddae9cdrow8_col0\" class=\"data row8 col0\" >8</td>\n",
       "                        <td id=\"T_7fe06a40_59c0_11ea_b117_507b9ddae9cdrow8_col1\" class=\"data row8 col1\" >$3.77</td>\n",
       "                        <td id=\"T_7fe06a40_59c0_11ea_b117_507b9ddae9cdrow8_col2\" class=\"data row8 col2\" >$30.16</td>\n",
       "            </tr>\n",
       "            <tr>\n",
       "                        <th id=\"T_7fe06a40_59c0_11ea_b117_507b9ddae9cdlevel0_row9\" class=\"row_heading level0 row9\" >60</th>\n",
       "                        <th id=\"T_7fe06a40_59c0_11ea_b117_507b9ddae9cdlevel1_row9\" class=\"row_heading level1 row9\" >Wolf</th>\n",
       "                        <td id=\"T_7fe06a40_59c0_11ea_b117_507b9ddae9cdrow9_col0\" class=\"data row9 col0\" >8</td>\n",
       "                        <td id=\"T_7fe06a40_59c0_11ea_b117_507b9ddae9cdrow9_col1\" class=\"data row9 col1\" >$3.54</td>\n",
       "                        <td id=\"T_7fe06a40_59c0_11ea_b117_507b9ddae9cdrow9_col2\" class=\"data row9 col2\" >$28.32</td>\n",
       "            </tr>\n",
       "    </tbody></table>"
      ],
      "text/plain": [
       "<pandas.io.formats.style.Styler at 0x1c1924f8e10>"
      ]
     },
     "execution_count": 20,
     "metadata": {},
     "output_type": "execute_result"
    }
   ],
   "source": [
    "# ----get the (5) max by sorting in descending order and then use head() to chop only the first 5 ---\n",
    "Profitable_pd = PopPurch_pd.sort_values(by=['Total Purchase Value'], ascending=False).head(10)\n",
    "\n",
    "# ------------------------display in formated style for readability -----\n",
    "Profitable_pd.style.format({'Item Price': \"${:.2f}\",\n",
    "                            'Total Purchase Value': \"${:.2f}\"\n",
    "                          })"
   ]
  },
  {
   "cell_type": "code",
   "execution_count": null,
   "metadata": {},
   "outputs": [],
   "source": []
  }
 ],
 "metadata": {
  "anaconda-cloud": {},
  "kernel_info": {
   "name": "python3"
  },
  "kernelspec": {
   "display_name": "Python 3",
   "language": "python",
   "name": "python3"
  },
  "language_info": {
   "codemirror_mode": {
    "name": "ipython",
    "version": 3
   },
   "file_extension": ".py",
   "mimetype": "text/x-python",
   "name": "python",
   "nbconvert_exporter": "python",
   "pygments_lexer": "ipython3",
   "version": "3.6.10"
  },
  "latex_envs": {
   "LaTeX_envs_menu_present": true,
   "autoclose": false,
   "autocomplete": true,
   "bibliofile": "biblio.bib",
   "cite_by": "apalike",
   "current_citInitial": 1,
   "eqLabelWithNumbers": true,
   "eqNumInitial": 1,
   "hotkeys": {
    "equation": "Ctrl-E",
    "itemize": "Ctrl-I"
   },
   "labels_anchors": false,
   "latex_user_defs": false,
   "report_style_numbering": false,
   "user_envs_cfg": false
  },
  "nteract": {
   "version": "0.2.0"
  }
 },
 "nbformat": 4,
 "nbformat_minor": 2
}
